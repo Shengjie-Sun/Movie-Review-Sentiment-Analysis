{
 "cells": [
  {
   "cell_type": "markdown",
   "metadata": {},
   "source": [
    "# Movie Review Sentiment Analysis"
   ]
  },
  {
   "cell_type": "markdown",
   "metadata": {},
   "source": [
    "## 1. Import Modules"
   ]
  },
  {
   "cell_type": "code",
   "execution_count": 1,
   "metadata": {},
   "outputs": [],
   "source": [
    "import numpy as np\n",
    "import pandas as pd"
   ]
  },
  {
   "cell_type": "code",
   "execution_count": 2,
   "metadata": {},
   "outputs": [],
   "source": [
    "%matplotlib inline\n",
    "import matplotlib.pyplot as plt\n",
    "\n",
    "# package used to creat wordclouds\n",
    "from wordcloud import WordCloud, STOPWORDS, ImageColorGenerator"
   ]
  },
  {
   "cell_type": "code",
   "execution_count": 3,
   "metadata": {},
   "outputs": [],
   "source": [
    "# Scikit-learn is a free software machine learning library for the Python programming language.\n",
    "\n",
    "# Some classes help us to deal with data\n",
    "from sklearn.feature_extraction.text import TfidfVectorizer\n",
    "\n",
    "# Some classes help us to implement ML methods and evaluate models\n",
    "from sklearn.ensemble import RandomForestClassifier\n",
    "from sklearn.model_selection import cross_val_score, GridSearchCV, train_test_split"
   ]
  },
  {
   "cell_type": "code",
   "execution_count": 4,
   "metadata": {},
   "outputs": [
    {
     "name": "stderr",
     "output_type": "stream",
     "text": [
      "C:\\Users\\sheng\\Anaconda3\\lib\\site-packages\\h5py\\__init__.py:36: FutureWarning: Conversion of the second argument of issubdtype from `float` to `np.floating` is deprecated. In future, it will be treated as `np.float64 == np.dtype(float).type`.\n",
      "  from ._conv import register_converters as _register_converters\n",
      "Using TensorFlow backend.\n"
     ]
    }
   ],
   "source": [
    "# Keras is a high-level neural networks API\n",
    "\n",
    "# Some classes help us to deal with data\n",
    "from keras.preprocessing.text import Tokenizer\n",
    "from keras.preprocessing.sequence import pad_sequences\n",
    "from keras.utils.np_utils import to_categorical"
   ]
  },
  {
   "cell_type": "code",
   "execution_count": 5,
   "metadata": {},
   "outputs": [],
   "source": [
    "# Some classes help us to bulid neural networks\n",
    "from keras.models import Sequential\n",
    "from keras.layers import Embedding, LSTM\n",
    "from keras.layers.core import Dense, Activation, Dropout\n",
    "from keras.callbacks import EarlyStopping"
   ]
  },
  {
   "cell_type": "markdown",
   "metadata": {},
   "source": [
    "## 2. [Loading Data: Rotten Tomatoes Movie Review Dataset](https://www.kaggle.com/c/movie-review-sentiment-analysis-kernels-only/data)\n",
    "- The dataset was download from Kaggle, we can click on the hyperlink to see the detailed description.\n",
    "- The dataset is comprised of tab-separated files with phrases from the Rotten Tomatoes dataset.\n",
    "- Each Sentence has been parsed into many phrases and sentiment labels are associated with not only the whole sentences but also phrases.\n",
    "- The sentiment labels are:\n",
    "    - 0 - negative\n",
    "    - 1 - somewhat negative\n",
    "    - 2 - neutral\n",
    "    - 3 - somewhat positive\n",
    "    - 4 - positive"
   ]
  },
  {
   "cell_type": "code",
   "execution_count": 6,
   "metadata": {},
   "outputs": [],
   "source": [
    "# Loading the dataset\n",
    "data_phrase = pd.read_csv('./data.tsv', sep='\\t', header='infer', index_col='PhraseId')"
   ]
  },
  {
   "cell_type": "code",
   "execution_count": 7,
   "metadata": {},
   "outputs": [
    {
     "data": {
      "text/html": [
       "<div>\n",
       "<style scoped>\n",
       "    .dataframe tbody tr th:only-of-type {\n",
       "        vertical-align: middle;\n",
       "    }\n",
       "\n",
       "    .dataframe tbody tr th {\n",
       "        vertical-align: top;\n",
       "    }\n",
       "\n",
       "    .dataframe thead th {\n",
       "        text-align: right;\n",
       "    }\n",
       "</style>\n",
       "<table border=\"1\" class=\"dataframe\">\n",
       "  <thead>\n",
       "    <tr style=\"text-align: right;\">\n",
       "      <th></th>\n",
       "      <th>SentenceId</th>\n",
       "      <th>Phrase</th>\n",
       "      <th>Sentiment</th>\n",
       "    </tr>\n",
       "    <tr>\n",
       "      <th>PhraseId</th>\n",
       "      <th></th>\n",
       "      <th></th>\n",
       "      <th></th>\n",
       "    </tr>\n",
       "  </thead>\n",
       "  <tbody>\n",
       "    <tr>\n",
       "      <th>156032</th>\n",
       "      <td>8543</td>\n",
       "      <td>The movie 's downfall is to substitute plot fo...</td>\n",
       "      <td>1</td>\n",
       "    </tr>\n",
       "    <tr>\n",
       "      <th>156033</th>\n",
       "      <td>8543</td>\n",
       "      <td>The movie 's downfall</td>\n",
       "      <td>1</td>\n",
       "    </tr>\n",
       "    <tr>\n",
       "      <th>156034</th>\n",
       "      <td>8543</td>\n",
       "      <td>is to substitute plot for personality .</td>\n",
       "      <td>1</td>\n",
       "    </tr>\n",
       "    <tr>\n",
       "      <th>156035</th>\n",
       "      <td>8543</td>\n",
       "      <td>is to substitute plot for personality</td>\n",
       "      <td>1</td>\n",
       "    </tr>\n",
       "    <tr>\n",
       "      <th>156036</th>\n",
       "      <td>8543</td>\n",
       "      <td>to substitute plot for personality</td>\n",
       "      <td>2</td>\n",
       "    </tr>\n",
       "    <tr>\n",
       "      <th>156037</th>\n",
       "      <td>8543</td>\n",
       "      <td>substitute plot for personality</td>\n",
       "      <td>1</td>\n",
       "    </tr>\n",
       "    <tr>\n",
       "      <th>156038</th>\n",
       "      <td>8543</td>\n",
       "      <td>substitute plot</td>\n",
       "      <td>2</td>\n",
       "    </tr>\n",
       "    <tr>\n",
       "      <th>156039</th>\n",
       "      <td>8543</td>\n",
       "      <td>for personality</td>\n",
       "      <td>2</td>\n",
       "    </tr>\n",
       "    <tr>\n",
       "      <th>156040</th>\n",
       "      <td>8544</td>\n",
       "      <td>The film is darkly atmospheric , with Herrmann...</td>\n",
       "      <td>2</td>\n",
       "    </tr>\n",
       "  </tbody>\n",
       "</table>\n",
       "</div>"
      ],
      "text/plain": [
       "          SentenceId                                             Phrase  \\\n",
       "PhraseId                                                                  \n",
       "156032          8543  The movie 's downfall is to substitute plot fo...   \n",
       "156033          8543                              The movie 's downfall   \n",
       "156034          8543            is to substitute plot for personality .   \n",
       "156035          8543              is to substitute plot for personality   \n",
       "156036          8543                 to substitute plot for personality   \n",
       "156037          8543                    substitute plot for personality   \n",
       "156038          8543                                    substitute plot   \n",
       "156039          8543                                    for personality   \n",
       "156040          8544  The film is darkly atmospheric , with Herrmann...   \n",
       "\n",
       "          Sentiment  \n",
       "PhraseId             \n",
       "156032            1  \n",
       "156033            1  \n",
       "156034            1  \n",
       "156035            1  \n",
       "156036            2  \n",
       "156037            1  \n",
       "156038            2  \n",
       "156039            2  \n",
       "156040            2  "
      ]
     },
     "execution_count": 7,
     "metadata": {},
     "output_type": "execute_result"
    }
   ],
   "source": [
    "# Let's explore the structure of this dataset\n",
    "\n",
    "# Each phrase has a PhraseId. Each sentence has a SentenceId.\n",
    "# Sentiment labels are associated with not only the whole sentences but also phrases\n",
    "# The sentence with SentenceId = 8543 is \"The movie 's downfall is to substitute plot for personality .\"\n",
    "\n",
    "data_phrase.iloc[156031:156040,:]"
   ]
  },
  {
   "cell_type": "code",
   "execution_count": 8,
   "metadata": {},
   "outputs": [
    {
     "data": {
      "text/html": [
       "<div>\n",
       "<style scoped>\n",
       "    .dataframe tbody tr th:only-of-type {\n",
       "        vertical-align: middle;\n",
       "    }\n",
       "\n",
       "    .dataframe tbody tr th {\n",
       "        vertical-align: top;\n",
       "    }\n",
       "\n",
       "    .dataframe thead th {\n",
       "        text-align: right;\n",
       "    }\n",
       "</style>\n",
       "<table border=\"1\" class=\"dataframe\">\n",
       "  <thead>\n",
       "    <tr style=\"text-align: right;\">\n",
       "      <th></th>\n",
       "      <th>Sentence</th>\n",
       "      <th>Sentiment</th>\n",
       "    </tr>\n",
       "    <tr>\n",
       "      <th>SentenceId</th>\n",
       "      <th></th>\n",
       "      <th></th>\n",
       "    </tr>\n",
       "  </thead>\n",
       "  <tbody>\n",
       "    <tr>\n",
       "      <th>1</th>\n",
       "      <td>A series of escapades demonstrating the adage ...</td>\n",
       "      <td>1</td>\n",
       "    </tr>\n",
       "    <tr>\n",
       "      <th>2</th>\n",
       "      <td>This quiet , introspective and entertaining in...</td>\n",
       "      <td>4</td>\n",
       "    </tr>\n",
       "    <tr>\n",
       "      <th>3</th>\n",
       "      <td>Even fans of Ismail Merchant 's work , I suspe...</td>\n",
       "      <td>1</td>\n",
       "    </tr>\n",
       "    <tr>\n",
       "      <th>4</th>\n",
       "      <td>A positively thrilling combination of ethnogra...</td>\n",
       "      <td>3</td>\n",
       "    </tr>\n",
       "    <tr>\n",
       "      <th>5</th>\n",
       "      <td>Aggressive self-glorification and a manipulati...</td>\n",
       "      <td>1</td>\n",
       "    </tr>\n",
       "  </tbody>\n",
       "</table>\n",
       "</div>"
      ],
      "text/plain": [
       "                                                     Sentence  Sentiment\n",
       "SentenceId                                                              \n",
       "1           A series of escapades demonstrating the adage ...          1\n",
       "2           This quiet , introspective and entertaining in...          4\n",
       "3           Even fans of Ismail Merchant 's work , I suspe...          1\n",
       "4           A positively thrilling combination of ethnogra...          3\n",
       "5           Aggressive self-glorification and a manipulati...          1"
      ]
     },
     "execution_count": 8,
     "metadata": {},
     "output_type": "execute_result"
    }
   ],
   "source": [
    "# Extra the all the sentences from the dataset\n",
    "data_sentence = data_phrase.groupby('SentenceId').first()\n",
    "\n",
    "# Rename the dataset\n",
    "data_sentence = data_sentence.rename(index=str, columns={'Phrase': 'Sentence'})\n",
    "data_sentence.head()"
   ]
  },
  {
   "cell_type": "markdown",
   "metadata": {},
   "source": [
    "## 3. Exploratory Data Analysis "
   ]
  },
  {
   "cell_type": "code",
   "execution_count": 9,
   "metadata": {},
   "outputs": [
    {
     "data": {
      "text/plain": [
       "Sentiment\n",
       "0     7072\n",
       "1    27273\n",
       "2    79582\n",
       "3    32927\n",
       "4     9206\n",
       "Name: Phrase, dtype: int64"
      ]
     },
     "execution_count": 9,
     "metadata": {},
     "output_type": "execute_result"
    }
   ],
   "source": [
    "# Let's first see the distribution of the \"Sentiment\"\n",
    "data_phrase.groupby('Sentiment').count().Phrase"
   ]
  },
  {
   "cell_type": "code",
   "execution_count": 10,
   "metadata": {},
   "outputs": [
    {
     "data": {
      "image/png": "[encoded data removed]",
      "text/plain": [
       "<Figure size 432x288 with 1 Axes>"
      ]
     },
     "metadata": {},
     "output_type": "display_data"
    }
   ],
   "source": [
    "# Plot above counts\n",
    "# It is very clear that most of phrases are labeled with 2, i.e. neutral\n",
    "sentiment_labels = np.array([0,1,2,3,4])\n",
    "sentiment_counts = data_phrase.groupby('Sentiment').count().Phrase\n",
    "plt.bar(sentiment_labels, sentiment_counts, align='center')\n",
    "plt.gca().set_xticks(sentiment_labels)\n",
    "plt.title('Histogram of the Distribution of the Sentiment')\n",
    "plt.xlabel('Level of Sentiment')\n",
    "plt.ylabel('Counts of Each Sentiment Level')\n",
    "plt.show()"
   ]
  },
  {
   "cell_type": "code",
   "execution_count": 11,
   "metadata": {},
   "outputs": [
    {
     "data": {
      "text/html": [
       "<div>\n",
       "<style scoped>\n",
       "    .dataframe tbody tr th:only-of-type {\n",
       "        vertical-align: middle;\n",
       "    }\n",
       "\n",
       "    .dataframe tbody tr th {\n",
       "        vertical-align: top;\n",
       "    }\n",
       "\n",
       "    .dataframe thead th {\n",
       "        text-align: right;\n",
       "    }\n",
       "</style>\n",
       "<table border=\"1\" class=\"dataframe\">\n",
       "  <thead>\n",
       "    <tr style=\"text-align: right;\">\n",
       "      <th></th>\n",
       "      <th>Sentence</th>\n",
       "      <th>Sentiment</th>\n",
       "    </tr>\n",
       "    <tr>\n",
       "      <th>SentenceId</th>\n",
       "      <th></th>\n",
       "      <th></th>\n",
       "    </tr>\n",
       "  </thead>\n",
       "  <tbody>\n",
       "    <tr>\n",
       "      <th>18</th>\n",
       "      <td>Like a less dizzily gorgeous companion to Mr. ...</td>\n",
       "      <td>2</td>\n",
       "    </tr>\n",
       "    <tr>\n",
       "      <th>20</th>\n",
       "      <td>It 's everything you 'd expect -- but nothing ...</td>\n",
       "      <td>2</td>\n",
       "    </tr>\n",
       "    <tr>\n",
       "      <th>24</th>\n",
       "      <td>That the Chuck Norris `` grenade gag '' occurs...</td>\n",
       "      <td>2</td>\n",
       "    </tr>\n",
       "    <tr>\n",
       "      <th>25</th>\n",
       "      <td>The plot is romantic comedy boilerplate from s...</td>\n",
       "      <td>2</td>\n",
       "    </tr>\n",
       "    <tr>\n",
       "      <th>26</th>\n",
       "      <td>It arrives with an impeccable pedigree , mongr...</td>\n",
       "      <td>2</td>\n",
       "    </tr>\n",
       "  </tbody>\n",
       "</table>\n",
       "</div>"
      ],
      "text/plain": [
       "                                                     Sentence  Sentiment\n",
       "SentenceId                                                              \n",
       "18          Like a less dizzily gorgeous companion to Mr. ...          2\n",
       "20          It 's everything you 'd expect -- but nothing ...          2\n",
       "24          That the Chuck Norris `` grenade gag '' occurs...          2\n",
       "25          The plot is romantic comedy boilerplate from s...          2\n",
       "26          It arrives with an impeccable pedigree , mongr...          2"
      ]
     },
     "execution_count": 11,
     "metadata": {},
     "output_type": "execute_result"
    }
   ],
   "source": [
    "# Now, let's get some intuition about the sentences labelled as \"neutral\" \n",
    "data_sentence.query('Sentiment== 2').head()"
   ]
  },
  {
   "cell_type": "code",
   "execution_count": 12,
   "metadata": {},
   "outputs": [],
   "source": [
    "# Create a list contains all of the sentences labelled as \"neutral\"\n",
    "# Here we care more about the sentences rather than phrases as there are lots of phrases repeated\n",
    "text_2 = \" \".join(review for review in data_sentence.query('Sentiment== 2').Sentence)\n",
    "# Create a WordCloud object\n",
    "wordcloud = WordCloud(max_font_size=50, max_words=200, background_color=\"white\").generate(text_2)"
   ]
  },
  {
   "cell_type": "code",
   "execution_count": 13,
   "metadata": {},
   "outputs": [
    {
     "data": {
      "image/png": "[encoded data removed]",
      "text/plain": [
       "<Figure size 432x288 with 1 Axes>"
      ]
     },
     "metadata": {},
     "output_type": "display_data"
    }
   ],
   "source": [
    "# Plot the wordcloud of those reviews with neutral sentiment\n",
    "# We will discuss later that this word cloud indicates something BAD for us\n",
    "plt.imshow(wordcloud, interpolation='bilinear')\n",
    "plt.axis(\"off\")\n",
    "plt.show()"
   ]
  },
  {
   "cell_type": "code",
   "execution_count": 14,
   "metadata": {},
   "outputs": [],
   "source": [
    "# Now, let's explore the most common words in those sentences labelled with 0 and 4 i.e. \"negative\" and \"positive\"\n",
    "# Here, we define a function to create histogram in order to avoid some repetition codes\n",
    "\n",
    "# Set the stopwords\n",
    "stopwords = set(STOPWORDS)\n",
    "stopwords.update(['movie','film','character','characters','story','one','make','will','is'])\n",
    "\n",
    "def barplot(sentiment_level=2):\n",
    "    \n",
    "    sentence = data_sentence.groupby('Sentiment').get_group(sentiment_level)\n",
    "    text = \" \".join(s for s in sentence.Sentence)\n",
    "    \n",
    "    wordcloud = WordCloud(stopwords=stopwords, max_words=15).generate(text)\n",
    "    \n",
    "    labels = list(wordcloud.words_.keys())\n",
    "    values = list(wordcloud.words_.values())\n",
    "\n",
    "    plt.bar(labels, values, align='center', alpha=0.9)\n",
    "    plt.xticks(labels, rotation='vertical')\n",
    "    plt.show()"
   ]
  },
  {
   "cell_type": "code",
   "execution_count": 15,
   "metadata": {},
   "outputs": [
    {
     "data": {
      "image/png": "[encoded data removed]",
      "text/plain": [
       "<Figure size 432x288 with 1 Axes>"
      ]
     },
     "metadata": {},
     "output_type": "display_data"
    }
   ],
   "source": [
    "# First 15 common words within sentence labelled with 0, i.e. negative\n",
    "# We can see some nagative words such as \"bad\", \"n't\"\n",
    "# However, words like \"n't\" is also common in sentence labelled with 2\n",
    "barplot(0)"
   ]
  },
  {
   "cell_type": "code",
   "execution_count": 16,
   "metadata": {},
   "outputs": [
    {
     "data": {
      "image/png": "[encoded data removed]",
      "text/plain": [
       "<Figure size 432x288 with 1 Axes>"
      ]
     },
     "metadata": {},
     "output_type": "display_data"
    }
   ],
   "source": [
    "# First 15 common words within sentence labelled with 4, i.e. positive\n",
    "# We can see some positive words such as \"best\", \"love\", \"good\"\n",
    "# However, words like \"good\" is also common in sentence labelled with 2\n",
    "barplot(4)"
   ]
  },
  {
   "cell_type": "code",
   "execution_count": 17,
   "metadata": {},
   "outputs": [
    {
     "data": {
      "text/plain": [
       "'A series of escapades demonstrating the adage that what is good for the goose is also good for the gander , some of which occasionally amuses but none of which amounts to much of a story .'"
      ]
     },
     "execution_count": 17,
     "metadata": {},
     "output_type": "execute_result"
    }
   ],
   "source": [
    "# We will see how single word is can mislead us\n",
    "# We can see that the following sentece with 2 \"good\", but the sentiment is 1 (somewhat negative)!! \n",
    "# This is because some words like \"but\", \"however\" can change the direction of semtiment totally!!\n",
    "data_phrase.iloc[0,1]"
   ]
  },
  {
   "cell_type": "markdown",
   "metadata": {},
   "source": [
    "## 4. Random Forest\n",
    "- Random Forest is a very handy and easy to use algorithm to do classification.\n",
    "- Random Forest classifier can handle overfitting problem.\n",
    "\n",
    "- **After runing this algorithm, you will find random forest is not suitable for movie review sentiment analysis.**\n",
    "- **This is because random forest use single words as features and cannot capture the meaning of longer phrases properly.**"
   ]
  },
  {
   "cell_type": "code",
   "execution_count": 18,
   "metadata": {},
   "outputs": [],
   "source": [
    "# Split the data into training and testing sets.\n",
    "xs_train, xs_test, ys_train, ys_test = train_test_split(data_sentence.Sentence, data_sentence.Sentiment, test_size=0.25)"
   ]
  },
  {
   "cell_type": "code",
   "execution_count": 19,
   "metadata": {},
   "outputs": [],
   "source": [
    "# Create a TfidfVectorizer objects that help us to convert a collection of raw documents to a matrix of TF-IDF features\n",
    "Tfidf = TfidfVectorizer()\n",
    "# Learn vocabulary and idf from the training set and transform xs_train and xs_test \n",
    "xstfidf_train = Tfidf.fit_transform(xs_train)\n",
    "xstfidf_test = Tfidf.transform(xs_test)"
   ]
  },
  {
   "cell_type": "code",
   "execution_count": 20,
   "metadata": {},
   "outputs": [],
   "source": [
    "# Create a Random Forest Classifier\n",
    "# We can use Grid Search to choose a suitable hyperparameters such as \"n_estimators\", \"max_depth\"\n",
    "RandomForest = RandomForestClassifier(n_jobs=-1, max_features='auto', n_estimators=200, max_depth=15)"
   ]
  },
  {
   "cell_type": "code",
   "execution_count": 21,
   "metadata": {},
   "outputs": [
    {
     "data": {
      "text/plain": [
       "RandomForestClassifier(bootstrap=True, class_weight=None, criterion='gini',\n",
       "            max_depth=15, max_features='auto', max_leaf_nodes=None,\n",
       "            min_impurity_decrease=0.0, min_impurity_split=None,\n",
       "            min_samples_leaf=1, min_samples_split=2,\n",
       "            min_weight_fraction_leaf=0.0, n_estimators=200, n_jobs=-1,\n",
       "            oob_score=False, random_state=None, verbose=0,\n",
       "            warm_start=False)"
      ]
     },
     "execution_count": 21,
     "metadata": {},
     "output_type": "execute_result"
    }
   ],
   "source": [
    "# Train this Classifier\n",
    "RandomForest.fit(xstfidf_train, ys_train)"
   ]
  },
  {
   "cell_type": "code",
   "execution_count": 22,
   "metadata": {},
   "outputs": [
    {
     "data": {
      "text/plain": [
       "{'max_depth': 10, 'n_estimators': 200}"
      ]
     },
     "execution_count": 22,
     "metadata": {},
     "output_type": "execute_result"
    }
   ],
   "source": [
    "# Use Grid Search to find a suitable parameters\n",
    "# It takes several seconds but you don't have to run this\n",
    "param={\"n_estimators\":[200, 300],\"max_depth\":[5, 10, 15]}\n",
    "gridsearch = GridSearchCV(RandomForest, param_grid=param, cv=3)\n",
    "gridsearch.fit(xstfidf_test, ys_test)\n",
    "\n",
    "# The best parameters in param (candidates defined above)\n",
    "gridsearch.best_params_"
   ]
  },
  {
   "cell_type": "code",
   "execution_count": 23,
   "metadata": {},
   "outputs": [
    {
     "data": {
      "text/plain": [
       "array([0.33138173, 0.34642438, 0.32727273, 0.32785924, 0.33489736])"
      ]
     },
     "execution_count": 23,
     "metadata": {},
     "output_type": "execute_result"
    }
   ],
   "source": [
    "# Let's do cross validation on this random forest algorithms \n",
    "cross_val_score(RandomForest, Tfidf.transform(data_sentence.Sentence), data_sentence.Sentiment, cv=5)"
   ]
  },
  {
   "cell_type": "code",
   "execution_count": 24,
   "metadata": {
    "scrolled": true
   },
   "outputs": [
    {
     "data": {
      "text/plain": [
       "0.323019221753399"
      ]
     },
     "execution_count": 24,
     "metadata": {},
     "output_type": "execute_result"
    }
   ],
   "source": [
    "# Let's see the accuracy of this algorithm!\n",
    "# The accuracy is very low!!\n",
    "# This is not surprise as random forest cannot capture the meaning of long phrases properly.\n",
    "RandomForest.score(xstfidf_test, ys_test)"
   ]
  },
  {
   "cell_type": "markdown",
   "metadata": {},
   "source": [
    "## 5. Recurrent Neural Network Model\n",
    "- [RNNs](https://en.wikipedia.org/wiki/Recurrent_neural_network) can use their internal state (memory) to process sequences of inputs and thus applicable to tasks speech recognition and here sentiment classification.\n",
    "- A Recurrent Neural Network(RNN) composed of LSTM units is often called an LSTM network.\n",
    "- A basic Long short-term memory (LSTM) units often plot like following:(the picture is from: https://developer.nvidia.com/discover/lstm)\n",
    "<img src=\"images/LSTM.png\" style=\"width:400px;height:200px;\"> <br>\n",
    "<caption><center> **Figure 1**: A basic Long short-term memory (LSTM) units. </center></caption>\n",
    "\n",
    "- LSTM network is capable of learning long-term dependencies. For example, one sentence starts with \"The director of this moive is very famous, \". But whether or not this sentence is positive or negative depends on the following. For example, \"The director of this moive is very famous, but his/her movie this time is disappointing.\" or \"The director of this moive is very famous, I think this moive will help his/her to get Oscars.\""
   ]
  },
  {
   "cell_type": "code",
   "execution_count": 25,
   "metadata": {},
   "outputs": [],
   "source": [
    "# Get list of all the phrase we have and lower all of them\n",
    "phrase = data_phrase.Phrase.str.lower()\n",
    "# Get the length of the longest phrase\n",
    "maxlen = len(max(phrase, key=len).split())"
   ]
  },
  {
   "cell_type": "markdown",
   "metadata": {},
   "source": [
    "### 5.1 Word Embedding\n",
    "- Here we will use [Global Vectors](https://nlp.stanford.edu/projects/glove/) for Word Representation\n",
    "- We will use pre-trained embedding matrix [\"glove.6B.50d.txt\"](https://www.kaggle.com/watts2/glove6b50dtxt) to accelerate our algorithms\n",
    "- Actually, we can use more complex pre-trained embedding matrix such as \"glove.6B.300d\" to do this, and the accuracy will increase. However, it is to big to upload I guess."
   ]
  },
  {
   "cell_type": "code",
   "execution_count": 26,
   "metadata": {},
   "outputs": [],
   "source": [
    "# dictionary contains all the vector representations of words in GloVe word vectors\n",
    "word_to_vec_map = {}\n",
    "\n",
    "with open('./glove.6B.50d.txt', 'r', encoding='utf8') as f:\n",
    "    word = set()\n",
    "    for line in f:\n",
    "        line = line.strip().split()\n",
    "        curr_word = line[0]\n",
    "        word.add(curr_word)\n",
    "        word_to_vec_map[curr_word] = np.array(line[1:], dtype=np.float64)"
   ]
  },
  {
   "cell_type": "code",
   "execution_count": 27,
   "metadata": {},
   "outputs": [],
   "source": [
    "# Define a Text tokenization utility class\n",
    "tokenizer = Tokenizer()\n",
    "tokenizer.fit_on_texts(word_to_vec_map.keys())\n",
    "\n",
    "# dictionary mapping from words to their indices\n",
    "word_to_index = tokenizer.word_index"
   ]
  },
  {
   "cell_type": "code",
   "execution_count": 28,
   "metadata": {},
   "outputs": [],
   "source": [
    "# Preprocessing on the Feature/Phrase Data\n",
    "X_tokenized = tokenizer.texts_to_sequences(phrase)\n",
    "X = pad_sequences(X_tokenized, maxlen=maxlen)"
   ]
  },
  {
   "cell_type": "code",
   "execution_count": 29,
   "metadata": {},
   "outputs": [],
   "source": [
    "# Preprocessing on the Target/Sentiment Data\n",
    "\n",
    "# extract the target (y) from the train_data_raw\n",
    "y = np.array(data_phrase.Sentiment)\n",
    "# change the y_train into One-Hot representation\n",
    "Y = to_categorical(y)"
   ]
  },
  {
   "cell_type": "markdown",
   "metadata": {},
   "source": [
    "### 5.2 Create the embedding matrix"
   ]
  },
  {
   "cell_type": "code",
   "execution_count": 30,
   "metadata": {},
   "outputs": [],
   "source": [
    "# Size of vocabulary\n",
    "voc_len = len(word_to_index) + 1    \n",
    "# dimensionality of the GloVe word vectors\n",
    "emb_dim = word_to_vec_map[\"a\"].shape[0]"
   ]
  },
  {
   "cell_type": "code",
   "execution_count": 31,
   "metadata": {},
   "outputs": [],
   "source": [
    "embedding_matrix = np.zeros((voc_len,emb_dim))\n",
    "\n",
    "# Set each row \"index\" of the embedding matrix to be the word vector representation of the \"index\"th word of the vocabulary\n",
    "for word, index in word_to_index.items():\n",
    "    if word_to_vec_map.get(word) is not None:\n",
    "        embedding_matrix[index, :] = word_to_vec_map[word]"
   ]
  },
  {
   "cell_type": "markdown",
   "metadata": {},
   "source": [
    "### 5.3 Build the RNN model based on Keras"
   ]
  },
  {
   "cell_type": "code",
   "execution_count": 32,
   "metadata": {},
   "outputs": [],
   "source": [
    "# Define Keras embedding layer with the correct output/input sizes, make it trainable.\n",
    "embedding_layer = Embedding(voc_len, \n",
    "                            emb_dim, \n",
    "                            input_length=maxlen, \n",
    "                            trainable=True, \n",
    "                            weights=[embedding_matrix],\n",
    "                            mask_zero=True)\n",
    "\n",
    "model = Sequential()\n",
    "# Propagate the model from embedding_layer\n",
    "model.add(embedding_layer)\n",
    "# Propagate the embeddings through an LSTM layer\n",
    "model.add(LSTM(emb_dim, activation='relu', return_sequences=True))\n",
    "# Add dropout with a probability of 0.2\n",
    "model.add(Dropout(0.2))\n",
    "# Propagate the embeddings through an LSTM layer\n",
    "model.add(LSTM(emb_dim, activation='relu'))\n",
    "# Add dropout with a probability of 0.2\n",
    "model.add(Dropout(0.2))\n",
    "# Propagate X through a Dense layer with softmax activation to get back a batch of 5-dimensional vectors.\n",
    "model.add(Dense(5, activation='softmax'))"
   ]
  },
  {
   "cell_type": "code",
   "execution_count": 33,
   "metadata": {},
   "outputs": [
    {
     "name": "stdout",
     "output_type": "stream",
     "text": [
      "_________________________________________________________________\n",
      "Layer (type)                 Output Shape              Param #   \n",
      "=================================================================\n",
      "embedding_1 (Embedding)      (None, 51, 50)            16962600  \n",
      "_________________________________________________________________\n",
      "lstm_1 (LSTM)                (None, 51, 50)            20200     \n",
      "_________________________________________________________________\n",
      "dropout_1 (Dropout)          (None, 51, 50)            0         \n",
      "_________________________________________________________________\n",
      "lstm_2 (LSTM)                (None, 50)                20200     \n",
      "_________________________________________________________________\n",
      "dropout_2 (Dropout)          (None, 50)                0         \n",
      "_________________________________________________________________\n",
      "dense_1 (Dense)              (None, 5)                 255       \n",
      "=================================================================\n",
      "Total params: 17,003,255\n",
      "Trainable params: 17,003,255\n",
      "Non-trainable params: 0\n",
      "_________________________________________________________________\n"
     ]
    }
   ],
   "source": [
    "# Summary of this RNN/LSTM model\n",
    "model.summary()"
   ]
  },
  {
   "cell_type": "markdown",
   "metadata": {},
   "source": [
    "### 5.4 Compile and Fit the RNN/LSTM"
   ]
  },
  {
   "cell_type": "code",
   "execution_count": 34,
   "metadata": {},
   "outputs": [],
   "source": [
    "# Stop training when a monitored quantity has stopped improving\n",
    "callbacks = [EarlyStopping(monitor='val_loss', patience=1)]"
   ]
  },
  {
   "cell_type": "code",
   "execution_count": 35,
   "metadata": {},
   "outputs": [],
   "source": [
    "# Compile our Model\n",
    "model.compile(loss='categorical_crossentropy', optimizer='Adam', metrics=['accuracy'])"
   ]
  },
  {
   "cell_type": "code",
   "execution_count": 36,
   "metadata": {},
   "outputs": [
    {
     "name": "stdout",
     "output_type": "stream",
     "text": [
      "Train on 124848 samples, validate on 31212 samples\n",
      "Epoch 1/10\n",
      "124848/124848 [==============================] - 327s 3ms/step - loss: 1.0255 - acc: 0.5900 - val_loss: 0.9560 - val_acc: 0.6027\n",
      "Epoch 2/10\n",
      "124848/124848 [==============================] - 373s 3ms/step - loss: 0.8323 - acc: 0.6551 - val_loss: 0.9433 - val_acc: 0.6119\n",
      "Epoch 3/10\n",
      "124848/124848 [==============================] - 344s 3ms/step - loss: 0.7716 - acc: 0.6798 - val_loss: 0.9559 - val_acc: 0.6106\n"
     ]
    },
    {
     "data": {
      "text/plain": [
       "<keras.callbacks.History at 0x14cb209ee80>"
      ]
     },
     "execution_count": 36,
     "metadata": {},
     "output_type": "execute_result"
    }
   ],
   "source": [
    "# Fit and estimate our Model\n",
    "model.fit(X, Y, epochs=10, batch_size=144, validation_split=0.2, callbacks=callbacks)"
   ]
  },
  {
   "cell_type": "markdown",
   "metadata": {},
   "source": [
    "### 5.5 Conclusion and Comparison\n",
    "- The accuarcy is 61% which is very high compared with Random Forest\n",
    "- The accuarcy can be improved by using bigger embedding matrix or more complex network or LSTM units like Bi-LSTM\n",
    "- The RNN/LSTM does improve the ability to capture the meaning of longer phrases"
   ]
  },
  {
   "cell_type": "code",
   "execution_count": 37,
   "metadata": {},
   "outputs": [],
   "source": [
    "model.save_weights(\"Trained_model.model\")"
   ]
  }
 ],
 "metadata": {
  "kernelspec": {
   "display_name": "Python 3",
   "language": "python",
   "name": "python3"
  },
  "language_info": {
   "codemirror_mode": {
    "name": "ipython",
    "version": 3
   },
   "file_extension": ".py",
   "mimetype": "text/x-python",
   "name": "python",
   "nbconvert_exporter": "python",
   "pygments_lexer": "ipython3",
   "version": "3.6.5"
  }
 },
 "nbformat": 4,
 "nbformat_minor": 2
}
