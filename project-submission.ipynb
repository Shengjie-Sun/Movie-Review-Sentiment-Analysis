{
 "cells": [
  {
   "cell_type": "markdown",
   "metadata": {},
   "source": [
    "# Project\n",
    "- Work solo or with one other person\n",
    "- Topic should be something interesting and fun for you\n",
    "- Your code should be written in Python 3.6\n",
    "- Effort roughly equivalent to two homeworks\n",
    "    - perhaps 100-200 lines of code\n",
    "    - sometimes people really get into it, which is fine\n",
    "        - have seen 1,000 line programs, but this is NOT necessary\n",
    "- All I'm really looking for is to see you've learned some Python and can do something with it\n",
    "- Happy to discuss your project with you if you have questions\n",
    "- Hangman games are highly discouraged(seen a pile of them)"
   ]
  },
  {
   "cell_type": "markdown",
   "metadata": {},
   "source": [
    "# If you did a solo project, fill in this cell\n",
    "\n",
    "```\n",
    "name: Shengjie Sun\n",
    "UNI: ss5593\n",
    "```\n",
    "\n",
    "Submit a zip file named 'yourUNI.zip' to CW2 that includes this notebook, your source, documentation, and data files. The zip must expand into a directory named 'YourUNI', and all your files should be under the YourUNI directory.\n"
   ]
  },
  {
   "cell_type": "markdown",
   "metadata": {},
   "source": [
    "# If you did a project with a partner, fill in this cell\n",
    "\n",
    "```\n",
    "name1:\n",
    "UNI1:\n",
    "\n",
    "name2:\n",
    "UNI2:\n",
    "\n",
    "roughly, who did what:\n",
    "\n",
    "```\n",
    "\n",
    "Each of you should submit the SAME zip file named   \n",
    "'UNI1-UNI2.zip' to CW2. The zip should include this notebook, your source, documentation, and data files. The zip must expand into a directory named 'UNI1-UNI2', and all your files should be under the UNI1-UNI2 directory.\n"
   ]
  },
  {
   "cell_type": "markdown",
   "metadata": {},
   "source": [
    "# What does your project do?\n",
    "- please be clear\n",
    "- try to make your writeup attractive\n",
    "    - include some graphics if possible"
   ]
  },
  {
   "cell_type": "markdown",
   "metadata": {},
   "source": [
    "### [Movie Review Sentiment Analysis:](https://www.kaggle.com/c/movie-review-sentiment-analysis-kernels-only) Classify the sentiment of sentences from the Rotten Tomatoes dataset\n",
    "- This is a competition on Kaggle\n",
    "- I didn't join this competition and the only used from Kaggle is its dataset"
   ]
  },
  {
   "cell_type": "markdown",
   "metadata": {},
   "source": [
    "#### Background\n",
    "- The dataset is [Sentiment Treebank](https://nlp.stanford.edu/sentiment/treebank.html). One sentence is sepearted into several phrases and each phrase has its own sentiment score. For example:\n",
    "<img src=\"images/Sentiment_Treebank.png\" style=\"width:650px;height:300px;\"> <br>\n",
    "<caption><center> **Figure 1**: Sentiment Treebank of \"Python is one of the best language in the word.\". </center></caption>\n",
    "- The sentiment labels are:\n",
    "    - \\-\\-:  negative\n",
    "    - \\-:   somewhat negative\n",
    "    - 0:    neutral\n",
    "    - \\+:   somewhat positive\n",
    "    - \\+\\+:  positive"
   ]
  },
  {
   "cell_type": "markdown",
   "metadata": {},
   "source": [
    "#### My goal\n",
    "- Build a model that can predict the sentiment labels of the phrases and sentences\n",
    "- Bulid a model that can capture the meaning of longer phrases properly\n",
    "- Bulid a model that can capture the effects of negation and its scope"
   ]
  },
  {
   "cell_type": "markdown",
   "metadata": {},
   "source": [
    "#### My main procedure\n",
    "- Preprocess the data\n",
    "- Exploratory Data Analysis\n",
    "- Build a classifier based on Random Forest\n",
    "- Build a classifier based on RNN/LSTM\n",
    "- Exam the two classifiers"
   ]
  },
  {
   "cell_type": "markdown",
   "metadata": {},
   "source": [
    "# What modules did you import, if any?\n",
    "- numpy\n",
    "- pandas\n",
    "- matplotlib\n",
    "- wordloud\n",
    "- sklearn\n",
    "- keras"
   ]
  },
  {
   "cell_type": "markdown",
   "metadata": {},
   "source": [
    "# Attribution\n",
    "- if you take ideas and/or code from a book or website you must\n",
    "give references in this section\n",
    "    - https://www.coursera.org/learn/nlp-sequence-models In order to build my own RNN, I took this course two weeks age and learnt the idea like word embedding and LSTM."
   ]
  },
  {
   "cell_type": "markdown",
   "metadata": {},
   "source": [
    "# Explain how we can run your project\n",
    "- Make sure you include all python and data files\n",
    "- If your project has graphics, include some snapshots\n",
    "- Any documentation should be written in a jupyter notebook\n",
    "    - do NOT submit ASCII/plain text, PDFs, Word files, etc.\n",
    "- If for some reason it is not feasible for us to run your project, make an appointment with Larry to demo it"
   ]
  },
  {
   "cell_type": "markdown",
   "metadata": {},
   "source": [
    "### Just Run Movie Review Sentiment Analysis.ipynb cell by cell !"
   ]
  },
  {
   "cell_type": "markdown",
   "metadata": {},
   "source": [
    "### The list of files:\n",
    "- project-submission.ipynb: this file itself\n",
    "- Movie Review Sentiment Analysis.ipynb: The file contains source codes and lots of explanation and comments. Just run it cell by cell. (Notice: there are several packages needed to be installed)\n",
    "- data.tsv: dataset of phrases and sentences of movie review\n",
    "- glove.6B.50d.txt: the pre-trained word vectors\n",
    "- Trained_model.model: The output(parameters) of my RNN model."
   ]
  },
  {
   "cell_type": "markdown",
   "metadata": {},
   "source": [
    "### The list of Folders:\n",
    "- images: images used in Movie Review Sentiment Analysis.ipynb\n",
    "- .ipynb_checkpoints"
   ]
  },
  {
   "cell_type": "markdown",
   "metadata": {},
   "source": [
    "# An evaluation of Python's suitability to your task\n",
    "- Were any problems encountered?\n",
    "- Was Python a good fit for your project?\n",
    "    - In retrospect, would you have preferred to use another language for your project - R, Java, Matlab, C++, etc\n",
    "    - Be honest! You don't have to praise Python. I want to hear about your actual experience. "
   ]
  },
  {
   "cell_type": "markdown",
   "metadata": {},
   "source": [
    "### Were any problems encountered?\n",
    "- The first time when I install Keras, I cannot use it as it is based on TensorFlow backend which can only run in Python3.6 (64 bit) but the Python interpreters on my computer are Python3.7 and Python3.6 (32 bit). But after I installed Python3.6 (64 bit), I can not import numpy. Maybe there is some conflict between different versions of numpy. At last, I delete all of the interpreters and installed the correct one!\n",
    "\n",
    "- I majored in Mathematics and now study statistics in Columbia and I have never touch Machine Learning or Deep Learning before. Even it is very convenient to do ML/DL in python with the help of lots of wonderful packages, I have to learn those the ideas of those ML/DL, otherwise, I cannot build my model can improve it. So, I spent a huge amount of time on learning the idea of RNN, such as GRU, LSTM, Word2Vec, Negative Sampling, Beam Search etc.\n",
    "\n",
    "- Sometimes, Keras objects return \"Tensor\", as it is built on Tensorflow, it is not directly for me to see what it is. And if there are some problems when I compile the model, it is very difficult to debug. \n",
    "\n",
    "- The error thrown by Jupyter Notebook is not clear sometimes."
   ]
  },
  {
   "cell_type": "markdown",
   "metadata": {},
   "source": [
    "### Was Python a good fit for your project?\n",
    "Generally speaking, YES! The core part of My project is mainly about RNN, i.e. Deeping learning, it is very quick to build my neural network with packages like Keras. And as a beginner, Python is friendly and handy. There are also online courses about Deep Learning and most of them are based on Python. For example, in order to do this project, I learned a lot from Deeplearning.ai. So, without Python, I cannot believe I can learn so many things within just two to three weeks by myself!!\n",
    "\n",
    "- R: As a statistician, I love R, it is super convenient. Dataframe and tibble in R is much more handy than pandas in my opinion. Some package like dplyr, ggplot2, purrr, is unbelievable. Kaggle supports both R and Python. I do not choose R just because it seems that there is not so many people use R to build DL/ML algorithms and there are not such resources.\n",
    "\n",
    "- Jave and C++: Two many codes to write in order to do the same thing in Python. I will not choose it for this project. But, the speed of C/C++ is a huge advantage. I will use C for other projects like building some Markov Chain Monte Carlo (MCMC) algorithms as there are lots of loops in MCMCs.\n",
    "\n",
    "- Matlab: I don't know, it is expensive and too big. I did use matlab for a long time.  "
   ]
  }
 ],
 "metadata": {
  "kernelspec": {
   "display_name": "Python 3",
   "language": "python",
   "name": "python3"
  },
  "language_info": {
   "codemirror_mode": {
    "name": "ipython",
    "version": 3
   },
   "file_extension": ".py",
   "mimetype": "text/x-python",
   "name": "python",
   "nbconvert_exporter": "python",
   "pygments_lexer": "ipython3",
   "version": "3.6.5"
  }
 },
 "nbformat": 4,
 "nbformat_minor": 1
}
